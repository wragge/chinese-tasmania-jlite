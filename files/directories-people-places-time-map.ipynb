{
 "cells": [
  {
   "cell_type": "markdown",
   "id": "f99b137f-8e11-4546-b3b1-7e88b585753d",
   "metadata": {},
   "source": [
    "# People and places in Post Office Directories: changes over time\n",
    "\n",
    "From the 'Run' menu, select 'Run all cells'."
   ]
  },
  {
   "cell_type": "code",
   "execution_count": 7,
   "id": "c7772178-1aff-409a-9ca7-e94809890895",
   "metadata": {
    "jupyter": {
     "source_hidden": true
    }
   },
   "outputs": [],
   "source": [
    "%pip install ipywidgets ipyleaflet"
   ]
  },
  {
   "cell_type": "code",
   "execution_count": 1,
   "id": "c341b0f0-960f-48ca-9e25-52808d788bd5",
   "metadata": {
    "jupyter": {
     "source_hidden": true
    }
   },
   "outputs": [],
   "source": [
    "import pandas as pd\n",
    "import ipywidgets as widgets\n",
    "from ipyleaflet import FeatureGroup\n",
    "from ipyleaflet import Map, Marker, MarkerCluster, WidgetControl, Heatmap, CircleMarker, FeatureGroup, LayerGroup\n",
    "import time\n",
    "import altair as alt"
   ]
  },
  {
   "cell_type": "code",
   "execution_count": 2,
   "id": "65ed7b92-faa2-4b16-bef8-4fe284e61386",
   "metadata": {
    "jupyter": {
     "source_hidden": true
    }
   },
   "outputs": [],
   "source": [
    "df = pd.read_csv(\"directories-place-year.csv\", parse_dates=[\"year\"])"
   ]
  },
  {
   "cell_type": "code",
   "execution_count": 3,
   "id": "2cbe0861-38bd-415b-8e69-3f3c96fecfc0",
   "metadata": {
    "jupyter": {
     "source_hidden": true
    }
   },
   "outputs": [],
   "source": [
    "df_places = df.copy().loc[df[\"type\"].notnull()]"
   ]
  },
  {
   "cell_type": "code",
   "execution_count": 4,
   "id": "5af6091a-3ad4-46f1-9e60-c1b25110879c",
   "metadata": {
    "jupyter": {
     "source_hidden": true
    }
   },
   "outputs": [
    {
     "data": {
      "application/vnd.jupyter.widget-view+json": {
       "model_id": "f73810e2debb4905a64497c0ee081c39",
       "version_major": 2,
       "version_minor": 0
      },
      "text/plain": [
       "Map(center=[-42, 147], controls=(ZoomControl(options=['position', 'zoom_in_text', 'zoom_in_title', 'zoom_out_t…"
      ]
     },
     "execution_count": 4,
     "metadata": {},
     "output_type": "execute_result"
    }
   ],
   "source": [
    "m_heat = Map(zoom=7, center=(-42, 147), layout=widgets.Layout(width='80%', height='600px'))\n",
    "\n",
    "def add_locations(df):\n",
    "\n",
    "    layer = LayerGroup()\n",
    "    for place, people in df.groupby([\"id\", \"latitude\", \"longitude\"]):\n",
    "        circle_marker = CircleMarker()\n",
    "        circle_marker.location = (float(place[1]), float(place[2]))\n",
    "        circle_marker.radius = people.shape[0] * 5\n",
    "        circle_marker.color = \"red\"\n",
    "        circle_marker.fill_color = \"red\"\n",
    "        circle_marker.opacity = 0.8\n",
    "        circle_marker.stroke = 0\n",
    "        layer.add(circle_marker)\n",
    "    try:\n",
    "        m_heat.substitute(m_heat.layers[1], layer)\n",
    "    except IndexError:\n",
    "        m_heat.add(layer)\n",
    "\n",
    "def change_heat_data(change):\n",
    "    #print(change.new)\n",
    "    #print(gdf.loc[df_places[\"year\"] == str(change.new)].shape)\n",
    "    #print([l.name for l in  m.layers])\n",
    "    data = df_places.loc[df_places[\"year\"] == str(change.new)]\n",
    "    add_locations(data)\n",
    "\n",
    "def animate():\n",
    "    for year in range(df_places.year.dt.year.min() + 1, df_places.year.dt.year.max() + 1, 1):\n",
    "        heat_slider.value = year\n",
    "        time.sleep(2)\n",
    "        \n",
    "                         \n",
    "play = widgets.Play(\n",
    "    value=df_places.year.dt.year.min(),\n",
    "    min=df_places.year.dt.year.min(),\n",
    "    max=df_places.year.dt.year.max(),\n",
    "    step=1,\n",
    "    interval=1000,\n",
    "    description=\"Press play\",\n",
    "    disabled=False\n",
    ")\n",
    "heat_slider = widgets.IntSlider(min=df_places.year.dt.year.min(), max=df_places.year.dt.year.max(), value=1, description='Year', continuous_update=False,)\n",
    "heat_slider.observe(change_heat_data, names='value')\n",
    "widgets.jslink((play, 'value'), (heat_slider, 'value'))\n",
    "\n",
    "play_widget = widgets.HBox([play, heat_slider])\n",
    "m_heat.add_control(WidgetControl(widget=play_widget, position='bottomleft'))\n",
    "add_locations(df_places.loc[df_places[\"year\"] == str(df_places.year.dt.year.min())])\n",
    "\n",
    "m_heat"
   ]
  },
  {
   "cell_type": "code",
   "execution_count": 8,
   "id": "8aad8735-2510-421d-b57a-5b9a2d3c2560",
   "metadata": {
    "jupyter": {
     "source_hidden": true
    }
   },
   "outputs": [
    {
     "data": {
      "application/vnd.jupyter.widget-view+json": {
       "model_id": "6d942c3e10264e13b4809f963c07cb0b",
       "version_major": 2,
       "version_minor": 0
      },
      "text/plain": [
       "Map(center=[-42, 147], controls=(ZoomControl(options=['position', 'zoom_in_text', 'zoom_in_title', 'zoom_out_t…"
      ]
     },
     "execution_count": 8,
     "metadata": {},
     "output_type": "execute_result"
    }
   ],
   "source": [
    "m = Map(zoom=7, center=(-42, 147), layout=widgets.Layout(width='80%', height='600px'))\n",
    "\n",
    "def add_markers(df):\n",
    "    markers = []\n",
    "    \n",
    "    for point in df.itertuples():\n",
    "        marker = Marker(location=(float(point.latitude), float(point.longitude)))\n",
    "        message = widgets.HTML()\n",
    "        message.value = f\"<a href='https://data.katebagnall.com/s/tasmania/item/{point.person_id}' target='_blank'>{point.person_name}</a>\"\n",
    "        marker.popup = message\n",
    "        markers.append(marker)\n",
    "    marker_cluster = MarkerCluster(markers=markers)\n",
    "    try:\n",
    "        m.substitute(m.layers[1], marker_cluster)\n",
    "    except IndexError:\n",
    "        m.add(marker_cluster)\n",
    "\n",
    "def change_data(change):\n",
    "    #print(change.new)\n",
    "    #print(gdf.loc[df_places[\"year\"] == str(change.new)].shape)\n",
    "    #print([l.name for l in  m.layers])\n",
    "    data = df_places.loc[df_places[\"year\"] == str(change.new)]\n",
    "    add_markers(data)\n",
    "                         \n",
    "\n",
    "\n",
    "    \n",
    "slider = widgets.IntSlider(min=df_places.year.dt.year.min(), max=df_places.year.dt.year.max(), value=1, description='Year', continuous_update=False,)\n",
    "slider.observe(change_data, names='value')\n",
    "m.add_control(WidgetControl(widget=slider, position='bottomleft'))\n",
    "add_markers(df_places.loc[df_places[\"year\"] == str(df_places.year.dt.year.min())])\n",
    "m"
   ]
  },
  {
   "cell_type": "code",
   "execution_count": null,
   "id": "eb461f3d-5b51-4198-a325-52e4f1318427",
   "metadata": {},
   "outputs": [],
   "source": []
  }
 ],
 "metadata": {
  "kernelspec": {
   "display_name": "Python 3 (ipykernel)",
   "language": "python",
   "name": "python3"
  },
  "language_info": {
   "codemirror_mode": {
    "name": "ipython",
    "version": 3
   },
   "file_extension": ".py",
   "mimetype": "text/x-python",
   "name": "python",
   "nbconvert_exporter": "python",
   "pygments_lexer": "ipython3",
   "version": "3.12.11"
  }
 },
 "nbformat": 4,
 "nbformat_minor": 5
}
